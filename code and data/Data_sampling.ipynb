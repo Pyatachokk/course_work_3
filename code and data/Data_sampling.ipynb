{
 "cells": [
  {
   "cell_type": "code",
   "execution_count": 1,
   "metadata": {},
   "outputs": [],
   "source": [
    "# Importing libraries\n",
    "\n",
    "import numpy as np\n",
    "import pandas as pd\n",
    "import matplotlib.pyplot as plt\n",
    "from tqdm import tqdm\n",
    "from collections import defaultdict\n"
   ]
  },
  {
   "cell_type": "code",
   "execution_count": 2,
   "metadata": {},
   "outputs": [],
   "source": [
    "# Loading data\n",
    "yearly_train = pd.read_csv('train/Yearly-train.csv')\n",
    "quarterly_train = pd.read_csv('train/Quarterly-train.csv')\n",
    "monthly_train = pd.read_csv('train/Monthly-train.csv')\n",
    "weekly_train = pd.read_csv('train/Weekly-train.csv')\n",
    "daily_train = pd.read_csv('train/Daily-train.csv')\n",
    "hourly_train = pd.read_csv('train/Hourly-train.csv')"
   ]
  },
  {
   "cell_type": "code",
   "execution_count": 4,
   "metadata": {},
   "outputs": [],
   "source": [
    "train_data = [yearly_train, quarterly_train, monthly_train, weekly_train, daily_train, hourly_train]\n",
    "\n",
    "for data in train_data:\n",
    "    del data['Unnamed: 0']"
   ]
  },
  {
   "cell_type": "code",
   "execution_count": 5,
   "metadata": {},
   "outputs": [
    {
     "name": "stderr",
     "output_type": "stream",
     "text": [
      "100%|████████████████████████████████████████████████████████████████████████████████████| 6/6 [00:01<00:00,  5.12it/s]\n"
     ]
    }
   ],
   "source": [
    "# Setting parameters\n",
    "\n",
    "params = {'Yearly': (30, 2000), 'Quarterly': (60, 2000),\n",
    "          'Monthly': (156, 2000), 'Weekly': (315, 359) , 'Daily': (500, 2000), 'Hourly': (720, 414)}\n",
    "\n",
    "data_sample = []\n",
    "\n",
    "for data in tqdm(train_data):\n",
    "    param = params[data.label.iloc[0]]\n",
    "    \n",
    "#   Choosing params\n",
    "    length = param[0]\n",
    "    size = param[1]\n",
    "    \n",
    "    # Leave out short series\n",
    "    data_len = data[data.length >= length]\n",
    "    \n",
    "#     If sample is too small, take it all\n",
    "    if len(data_len) < size:\n",
    "        size = len(data_len)\n",
    "\n",
    "        \n",
    "#   Else take random sample\n",
    "    choice = np.random.choice(len(data_len), size = size, replace = False)\n",
    "    data_len = data_len.iloc[choice]\n",
    "    len_labs = data_len['label']\n",
    "    len_lens = data_len['length']\n",
    "    \n",
    "#     Trimming series\n",
    "    data_len = data_len.iloc[:, :length]\n",
    "    data_len.index = np.arange(len(data_len))\n",
    "\n",
    "    data_sample.append(data_len.transpose())\n",
    "    \n"
   ]
  },
  {
   "cell_type": "code",
   "execution_count": 6,
   "metadata": {},
   "outputs": [
    {
     "name": "stdout",
     "output_type": "stream",
     "text": [
      "0\n",
      "[1134]\n",
      "2\n",
      "[ 995 1163]\n",
      "0\n",
      "0\n",
      "0\n",
      "0\n",
      "0\n",
      "0\n"
     ]
    }
   ],
   "source": [
    "for i in range(6):\n",
    "#   Standartization of series\n",
    "    data_sample[i] = (data_sample[i] - data_sample[i].mean()) / data_sample[i].std()\n",
    "    \n",
    "#     Leaving out of sample constant series\n",
    "    if data_sample[i].isnull().sum().sum() != 0:\n",
    "        print(i)\n",
    "        indeces = pd.isnull(data_sample[i].transpose()).any(1).nonzero()[0]\n",
    "        print(indeces)\n",
    "        for ind in indeces:\n",
    "            del data_sample[i][ind]\n",
    "\n",
    "    data_sample[i].index = np.arange(len(data_sample[i]))\n",
    "# Checking NANs or constant series\n",
    "for data in data_sample:\n",
    "    print(data.isnull().sum().sum())\n",
    "    inds = pd.isnull(data.transpose()).any(1).nonzero()[0]"
   ]
  },
  {
   "cell_type": "code",
   "execution_count": 7,
   "metadata": {},
   "outputs": [],
   "source": [
    "# Saving ddata\n",
    "\n",
    "data_sample = {'Yearly': data_sample[0], 'Quarterly': data_sample[1],\n",
    "          'Monthly': data_sample[2], 'Weekly': data_sample[3] , 'Daily': data_sample[4], 'Hourly': data_sample[5]}\n",
    "\n",
    "for key in data_sample.keys():\n",
    "    data_sample[key].to_csv(key+'_sample.csv')"
   ]
  },
  {
   "cell_type": "code",
   "execution_count": null,
   "metadata": {},
   "outputs": [],
   "source": []
  }
 ],
 "metadata": {
  "kernelspec": {
   "display_name": "Python 3",
   "language": "python",
   "name": "python3"
  },
  "language_info": {
   "codemirror_mode": {
    "name": "ipython",
    "version": 3
   },
   "file_extension": ".py",
   "mimetype": "text/x-python",
   "name": "python",
   "nbconvert_exporter": "python",
   "pygments_lexer": "ipython3",
   "version": "3.7.1"
  }
 },
 "nbformat": 4,
 "nbformat_minor": 2
}
