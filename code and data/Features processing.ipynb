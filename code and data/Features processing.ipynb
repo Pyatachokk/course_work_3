{
 "cells": [
  {
   "cell_type": "code",
   "execution_count": 2,
   "metadata": {},
   "outputs": [],
   "source": [
    "import numpy as np\n",
    "import pandas as pd"
   ]
  },
  {
   "cell_type": "code",
   "execution_count": 3,
   "metadata": {},
   "outputs": [],
   "source": [
    "\n",
    "\n",
    "# Loading features\n",
    "\n",
    "yearly_train = pd.read_csv('features/Yearly_features.csv')\n",
    "yearly_train['label'] = 'Yearly'\n",
    "\n",
    "quarterly_train = pd.read_csv('features/Quarterly_features.csv')\n",
    "quarterly_train['label'] = 'Quarterly'\n",
    "\n",
    "monthly_train = pd.read_csv('features/Monthly_features.csv')\n",
    "monthly_train['label'] = 'Monthly'\n",
    "\n",
    "weekly_train = pd.read_csv('features/Weekly_features.csv')\n",
    "weekly_train['label'] = 'Weekly'\n",
    "\n",
    "daily_train = pd.read_csv('features/Daily_features.csv')\n",
    "daily_train['label'] = 'Daily'\n",
    "\n",
    "hourly_train = pd.read_csv('features/Hourly_features.csv')\n",
    "hourly_train['label'] = 'Hourly'\n",
    "\n",
    "train_data = [yearly_train, quarterly_train, monthly_train, weekly_train, daily_train, hourly_train]\n",
    "\n",
    "for data in train_data:\n",
    "    del data['Unnamed: 0']"
   ]
  },
  {
   "cell_type": "code",
   "execution_count": 4,
   "metadata": {},
   "outputs": [],
   "source": [
    "# Stacking features\n",
    "train = pd.concat(train_data, axis = 0, sort = False)\n",
    "labels_vec = train['label']\n",
    "\n",
    "# Deleting labels\n",
    "del train['label']\n",
    "features = train.columns"
   ]
  },
  {
   "cell_type": "code",
   "execution_count": null,
   "metadata": {},
   "outputs": [],
   "source": [
    "from sklearn.preprocessing import MinMaxScaler\n",
    "\n",
    "# Scaling data and saving results\n",
    "scl = MinMaxScaler()\n",
    "scl.fit(train)\n",
    "train_normed = pd.DataFrame(scl.transform(train), columns= features)\n",
    "train_normed['label'] = list(labels_vec)\n",
    "\n",
    "train_centered = pd.DataFrame(scl.transform(train) - np.mean(scl.transform(train), axis = 0), columns = features)\n",
    "train_centered['label'] = list(labels_vec)\n",
    "means = pd.DataFrame(np.vstack((np.mean(scl.transform(train), axis = 0), scl.data_max_, scl.data_min_)).T)"
   ]
  },
  {
   "cell_type": "code",
   "execution_count": null,
   "metadata": {},
   "outputs": [],
   "source": [
    "# Writing the results\n",
    "train_normed.to_csv('train_normed.csv')\n",
    "train_centered.to_csv('train_centered.csv')\n",
    "means.to_csv('means.csv')"
   ]
  }
 ],
 "metadata": {
  "kernelspec": {
   "display_name": "Python 3",
   "language": "python",
   "name": "python3"
  },
  "language_info": {
   "codemirror_mode": {
    "name": "ipython",
    "version": 3
   },
   "file_extension": ".py",
   "mimetype": "text/x-python",
   "name": "python",
   "nbconvert_exporter": "python",
   "pygments_lexer": "ipython3",
   "version": "3.7.1"
  }
 },
 "nbformat": 4,
 "nbformat_minor": 2
}
